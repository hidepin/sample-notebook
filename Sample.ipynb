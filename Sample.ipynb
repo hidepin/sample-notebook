{
 "cells": [
  {
   "cell_type": "code",
   "execution_count": null,
   "metadata": {
    "autoscroll": false,
    "collapsed": false,
    "ein.tags": "worksheet-0",
    "slideshow": {
     "slide_type": "-"
    }
   },
   "outputs": [],
   "source": [
    "import numpy as np\n",
    "from matplotlib import pyplot as plt, font_manager\n",
    "\n",
    "np.random.seed(0)\n",
    "\n",
    "x = range(5)\n",
    "y = 10 + 5 *np.random.randn(5)\n",
    "\n",
    "fig = plt.figure()\n",
    "font = font_manager.FontProperties(fname='/usr/share/fonts/ipa-pgothic/ipagp.ttf' , size=20)\n",
    "fig.patch.set_facecolor('coral')\n",
    "ax = fig.add_subplot(111)\n",
    "\n",
    "ax.set_title('日本語を指定したタイトル', fontproperties=font)\n",
    "ax.bar(x,y)\n",
    "\n",
    "plt.show()"
   ]
  }
 ],
 "metadata": {
  "name": "Sample.ipynb"
 },
 "nbformat": 4,
 "nbformat_minor": 2
}
